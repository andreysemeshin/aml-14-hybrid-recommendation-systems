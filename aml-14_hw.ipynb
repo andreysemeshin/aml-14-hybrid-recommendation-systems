{
 "cells": [
  {
   "cell_type": "markdown",
   "metadata": {},
   "source": [
    "ДЗ Гибридные рекомендательные системы\n",
    "=====\n",
    "1.Датасет ml-latest\n",
    "2.Вспомнить подходы, которые мы разбирали\n",
    "3.Выбрать понравившийся подход к гибридным системам\n",
    "4.Написать свою"
   ]
  },
  {
   "cell_type": "code",
   "execution_count": 164,
   "metadata": {},
   "outputs": [
    {
     "data": {
      "text/html": [
       "<style>.container { width:95% !important; }</style>"
      ],
      "text/plain": [
       "<IPython.core.display.HTML object>"
      ]
     },
     "metadata": {},
     "output_type": "display_data"
    }
   ],
   "source": [
    "import pandas as pd\n",
    "import numpy as np\n",
    "from surprise import SVD, SVDpp\n",
    "from surprise import KNNWithMeans\n",
    "from surprise import Dataset\n",
    "from surprise import accuracy\n",
    "from surprise import Reader\n",
    "from surprise.model_selection import train_test_split\n",
    "import warnings\n",
    "warnings.filterwarnings(\"ignore\")\n",
    "%matplotlib inline\n",
    "from IPython.core.display import display, HTML\n",
    "display(HTML(\"<style>.container { width:95% !important; }</style>\"))"
   ]
  },
  {
   "cell_type": "code",
   "execution_count": 15,
   "metadata": {},
   "outputs": [],
   "source": [
    "movies = pd.read_csv('movies.csv')\n",
    "ratings = pd.read_csv('ratings.csv')"
   ]
  },
  {
   "cell_type": "code",
   "execution_count": 27,
   "metadata": {},
   "outputs": [],
   "source": [
    "movies_ratings = pd.merge(ratings, movies, on='movieId', how='inner')"
   ]
  },
  {
   "cell_type": "code",
   "execution_count": 28,
   "metadata": {},
   "outputs": [
    {
     "name": "stdout",
     "output_type": "stream",
     "text": [
      "<class 'pandas.core.frame.DataFrame'>\n",
      "Int64Index: 100836 entries, 0 to 100835\n",
      "Data columns (total 6 columns):\n",
      " #   Column     Non-Null Count   Dtype  \n",
      "---  ------     --------------   -----  \n",
      " 0   userId     100836 non-null  int64  \n",
      " 1   movieId    100836 non-null  int64  \n",
      " 2   rating     100836 non-null  float64\n",
      " 3   timestamp  100836 non-null  int64  \n",
      " 4   title      100836 non-null  object \n",
      " 5   genres     100836 non-null  object \n",
      "dtypes: float64(1), int64(3), object(2)\n",
      "memory usage: 5.4+ MB\n"
     ]
    }
   ],
   "source": [
    "movies_ratings.info()"
   ]
  },
  {
   "cell_type": "code",
   "execution_count": 29,
   "metadata": {},
   "outputs": [
    {
     "data": {
      "text/plain": [
       "['Ok', 'Ok', 'Ok', 'Ok', 'Ok', 'Ok']"
      ]
     },
     "execution_count": 29,
     "metadata": {},
     "output_type": "execute_result"
    }
   ],
   "source": [
    "['Ok' for x in movies_ratings.isnull().any() if x == False ]"
   ]
  },
  {
   "cell_type": "code",
   "execution_count": 30,
   "metadata": {},
   "outputs": [
    {
     "data": {
      "text/html": [
       "<div>\n",
       "<style scoped>\n",
       "    .dataframe tbody tr th:only-of-type {\n",
       "        vertical-align: middle;\n",
       "    }\n",
       "\n",
       "    .dataframe tbody tr th {\n",
       "        vertical-align: top;\n",
       "    }\n",
       "\n",
       "    .dataframe thead th {\n",
       "        text-align: right;\n",
       "    }\n",
       "</style>\n",
       "<table border=\"1\" class=\"dataframe\">\n",
       "  <thead>\n",
       "    <tr style=\"text-align: right;\">\n",
       "      <th></th>\n",
       "      <th>userId</th>\n",
       "      <th>movieId</th>\n",
       "      <th>rating</th>\n",
       "      <th>title</th>\n",
       "      <th>genres</th>\n",
       "    </tr>\n",
       "  </thead>\n",
       "  <tbody>\n",
       "    <tr>\n",
       "      <th>0</th>\n",
       "      <td>1</td>\n",
       "      <td>1</td>\n",
       "      <td>4.0</td>\n",
       "      <td>Toy Story (1995)</td>\n",
       "      <td>Adventure|Animation|Children|Comedy|Fantasy</td>\n",
       "    </tr>\n",
       "    <tr>\n",
       "      <th>1</th>\n",
       "      <td>5</td>\n",
       "      <td>1</td>\n",
       "      <td>4.0</td>\n",
       "      <td>Toy Story (1995)</td>\n",
       "      <td>Adventure|Animation|Children|Comedy|Fantasy</td>\n",
       "    </tr>\n",
       "    <tr>\n",
       "      <th>2</th>\n",
       "      <td>7</td>\n",
       "      <td>1</td>\n",
       "      <td>4.5</td>\n",
       "      <td>Toy Story (1995)</td>\n",
       "      <td>Adventure|Animation|Children|Comedy|Fantasy</td>\n",
       "    </tr>\n",
       "    <tr>\n",
       "      <th>3</th>\n",
       "      <td>15</td>\n",
       "      <td>1</td>\n",
       "      <td>2.5</td>\n",
       "      <td>Toy Story (1995)</td>\n",
       "      <td>Adventure|Animation|Children|Comedy|Fantasy</td>\n",
       "    </tr>\n",
       "    <tr>\n",
       "      <th>4</th>\n",
       "      <td>17</td>\n",
       "      <td>1</td>\n",
       "      <td>4.5</td>\n",
       "      <td>Toy Story (1995)</td>\n",
       "      <td>Adventure|Animation|Children|Comedy|Fantasy</td>\n",
       "    </tr>\n",
       "  </tbody>\n",
       "</table>\n",
       "</div>"
      ],
      "text/plain": [
       "   userId  movieId  rating             title  \\\n",
       "0       1        1     4.0  Toy Story (1995)   \n",
       "1       5        1     4.0  Toy Story (1995)   \n",
       "2       7        1     4.5  Toy Story (1995)   \n",
       "3      15        1     2.5  Toy Story (1995)   \n",
       "4      17        1     4.5  Toy Story (1995)   \n",
       "\n",
       "                                        genres  \n",
       "0  Adventure|Animation|Children|Comedy|Fantasy  \n",
       "1  Adventure|Animation|Children|Comedy|Fantasy  \n",
       "2  Adventure|Animation|Children|Comedy|Fantasy  \n",
       "3  Adventure|Animation|Children|Comedy|Fantasy  \n",
       "4  Adventure|Animation|Children|Comedy|Fantasy  "
      ]
     },
     "execution_count": 30,
     "metadata": {},
     "output_type": "execute_result"
    }
   ],
   "source": [
    "del movies_ratings['timestamp']\n",
    "movies_ratings.head()"
   ]
  },
  {
   "cell_type": "code",
   "execution_count": 31,
   "metadata": {},
   "outputs": [
    {
     "data": {
      "text/html": [
       "<div>\n",
       "<style scoped>\n",
       "    .dataframe tbody tr th:only-of-type {\n",
       "        vertical-align: middle;\n",
       "    }\n",
       "\n",
       "    .dataframe tbody tr th {\n",
       "        vertical-align: top;\n",
       "    }\n",
       "\n",
       "    .dataframe thead th {\n",
       "        text-align: right;\n",
       "    }\n",
       "</style>\n",
       "<table border=\"1\" class=\"dataframe\">\n",
       "  <thead>\n",
       "    <tr style=\"text-align: right;\">\n",
       "      <th></th>\n",
       "      <th>uid</th>\n",
       "      <th>iid</th>\n",
       "      <th>rating</th>\n",
       "    </tr>\n",
       "  </thead>\n",
       "  <tbody>\n",
       "    <tr>\n",
       "      <th>0</th>\n",
       "      <td>1</td>\n",
       "      <td>Toy Story (1995)</td>\n",
       "      <td>4.0</td>\n",
       "    </tr>\n",
       "    <tr>\n",
       "      <th>1</th>\n",
       "      <td>5</td>\n",
       "      <td>Toy Story (1995)</td>\n",
       "      <td>4.0</td>\n",
       "    </tr>\n",
       "    <tr>\n",
       "      <th>2</th>\n",
       "      <td>7</td>\n",
       "      <td>Toy Story (1995)</td>\n",
       "      <td>4.5</td>\n",
       "    </tr>\n",
       "    <tr>\n",
       "      <th>3</th>\n",
       "      <td>15</td>\n",
       "      <td>Toy Story (1995)</td>\n",
       "      <td>2.5</td>\n",
       "    </tr>\n",
       "    <tr>\n",
       "      <th>4</th>\n",
       "      <td>17</td>\n",
       "      <td>Toy Story (1995)</td>\n",
       "      <td>4.5</td>\n",
       "    </tr>\n",
       "  </tbody>\n",
       "</table>\n",
       "</div>"
      ],
      "text/plain": [
       "   uid               iid  rating\n",
       "0    1  Toy Story (1995)     4.0\n",
       "1    5  Toy Story (1995)     4.0\n",
       "2    7  Toy Story (1995)     4.5\n",
       "3   15  Toy Story (1995)     2.5\n",
       "4   17  Toy Story (1995)     4.5"
      ]
     },
     "execution_count": 31,
     "metadata": {},
     "output_type": "execute_result"
    }
   ],
   "source": [
    "dataset = pd.DataFrame({\n",
    "    'uid': movies_ratings.userId,\n",
    "    'iid': movies_ratings.title,\n",
    "    'rating': movies_ratings.rating\n",
    "})\n",
    "dataset.head()"
   ]
  },
  {
   "cell_type": "markdown",
   "metadata": {},
   "source": [
    "Создание пользователя\n",
    "======="
   ]
  },
  {
   "cell_type": "code",
   "execution_count": 99,
   "metadata": {},
   "outputs": [
    {
     "data": {
      "text/plain": [
       "610"
      ]
     },
     "execution_count": 99,
     "metadata": {},
     "output_type": "execute_result"
    }
   ],
   "source": [
    "np.max(movies_ratings.userId)"
   ]
  },
  {
   "cell_type": "code",
   "execution_count": 101,
   "metadata": {},
   "outputs": [],
   "source": [
    "# создадим нового пользователя\n",
    "new_user_id = 700"
   ]
  },
  {
   "cell_type": "code",
   "execution_count": 102,
   "metadata": {},
   "outputs": [],
   "source": [
    "random_films = movies_ratings.title.sample(10)"
   ]
  },
  {
   "cell_type": "code",
   "execution_count": 103,
   "metadata": {},
   "outputs": [
    {
     "data": {
      "text/plain": [
       "84027                                Over the Hedge (2006)\n",
       "40015                                       Witness (1985)\n",
       "7150     Raiders of the Lost Ark (Indiana Jones and the...\n",
       "34228                     Hunt for Red October, The (1990)\n",
       "22996                                Eyes Wide Shut (1999)\n",
       "78846                                          Argo (2012)\n",
       "43069                                         Brave (2012)\n",
       "93011                           Stepford Wives, The (1975)\n",
       "43427                                       Spectre (2015)\n",
       "37404                              X2: X-Men United (2003)\n",
       "Name: title, dtype: object"
      ]
     },
     "execution_count": 103,
     "metadata": {},
     "output_type": "execute_result"
    }
   ],
   "source": [
    "random_films"
   ]
  },
  {
   "cell_type": "code",
   "execution_count": 104,
   "metadata": {},
   "outputs": [],
   "source": [
    "index_movies = random_films.index"
   ]
  },
  {
   "cell_type": "code",
   "execution_count": 105,
   "metadata": {},
   "outputs": [],
   "source": [
    "new_user_ratings = {\n",
    "    random_films[index_movies[0]]: 3.5,\n",
    "    random_films[index_movies[1]]: 2.5,\n",
    "    random_films[index_movies[2]]: 4.5,\n",
    "    random_films[index_movies[3]]: 2.5,\n",
    "    random_films[index_movies[4]]: 5.0,\n",
    "    random_films[index_movies[5]]: 5.0,\n",
    "    random_films[index_movies[6]]: 4.0,\n",
    "    random_films[index_movies[7]]: 3.0,\n",
    "    random_films[index_movies[8]]: 2.0,\n",
    "    random_films[index_movies[9]]: 1.0\n",
    "}"
   ]
  },
  {
   "cell_type": "code",
   "execution_count": 106,
   "metadata": {},
   "outputs": [
    {
     "data": {
      "text/plain": [
       "{'Over the Hedge (2006)': 3.5,\n",
       " 'Witness (1985)': 2.5,\n",
       " 'Raiders of the Lost Ark (Indiana Jones and the Raiders of the Lost Ark) (1981)': 4.5,\n",
       " 'Hunt for Red October, The (1990)': 2.5,\n",
       " 'Eyes Wide Shut (1999)': 5.0,\n",
       " 'Argo (2012)': 5.0,\n",
       " 'Brave (2012)': 4.0,\n",
       " 'Stepford Wives, The (1975)': 3.0,\n",
       " 'Spectre (2015)': 2.0,\n",
       " 'X2: X-Men United (2003)': 1.0}"
      ]
     },
     "execution_count": 106,
     "metadata": {},
     "output_type": "execute_result"
    }
   ],
   "source": [
    "new_user_ratings"
   ]
  },
  {
   "cell_type": "markdown",
   "metadata": {},
   "source": [
    "Добавим новые фильмы в дата-сет"
   ]
  },
  {
   "cell_type": "code",
   "execution_count": 108,
   "metadata": {},
   "outputs": [],
   "source": [
    "for film, rating in new_user_ratings.items(): \n",
    "    dataset = dataset.append({\n",
    "            'uid': new_user_id,\n",
    "            'iid': film,\n",
    "            'rating': rating\n",
    "        }, ignore_index=True)\n"
   ]
  },
  {
   "cell_type": "code",
   "execution_count": 110,
   "metadata": {},
   "outputs": [
    {
     "data": {
      "text/html": [
       "<div>\n",
       "<style scoped>\n",
       "    .dataframe tbody tr th:only-of-type {\n",
       "        vertical-align: middle;\n",
       "    }\n",
       "\n",
       "    .dataframe tbody tr th {\n",
       "        vertical-align: top;\n",
       "    }\n",
       "\n",
       "    .dataframe thead th {\n",
       "        text-align: right;\n",
       "    }\n",
       "</style>\n",
       "<table border=\"1\" class=\"dataframe\">\n",
       "  <thead>\n",
       "    <tr style=\"text-align: right;\">\n",
       "      <th></th>\n",
       "      <th>uid</th>\n",
       "      <th>iid</th>\n",
       "      <th>rating</th>\n",
       "    </tr>\n",
       "  </thead>\n",
       "  <tbody>\n",
       "    <tr>\n",
       "      <th>100831</th>\n",
       "      <td>610</td>\n",
       "      <td>Bloodmoon (1997)</td>\n",
       "      <td>2.5</td>\n",
       "    </tr>\n",
       "    <tr>\n",
       "      <th>100832</th>\n",
       "      <td>610</td>\n",
       "      <td>Sympathy for the Underdog (1971)</td>\n",
       "      <td>4.5</td>\n",
       "    </tr>\n",
       "    <tr>\n",
       "      <th>100833</th>\n",
       "      <td>610</td>\n",
       "      <td>Hazard (2005)</td>\n",
       "      <td>3.0</td>\n",
       "    </tr>\n",
       "    <tr>\n",
       "      <th>100834</th>\n",
       "      <td>610</td>\n",
       "      <td>Blair Witch (2016)</td>\n",
       "      <td>3.5</td>\n",
       "    </tr>\n",
       "    <tr>\n",
       "      <th>100835</th>\n",
       "      <td>610</td>\n",
       "      <td>31 (2016)</td>\n",
       "      <td>3.5</td>\n",
       "    </tr>\n",
       "    <tr>\n",
       "      <th>100836</th>\n",
       "      <td>700</td>\n",
       "      <td>Over the Hedge (2006)</td>\n",
       "      <td>3.5</td>\n",
       "    </tr>\n",
       "    <tr>\n",
       "      <th>100837</th>\n",
       "      <td>700</td>\n",
       "      <td>Witness (1985)</td>\n",
       "      <td>2.5</td>\n",
       "    </tr>\n",
       "    <tr>\n",
       "      <th>100838</th>\n",
       "      <td>700</td>\n",
       "      <td>Raiders of the Lost Ark (Indiana Jones and the...</td>\n",
       "      <td>4.5</td>\n",
       "    </tr>\n",
       "    <tr>\n",
       "      <th>100839</th>\n",
       "      <td>700</td>\n",
       "      <td>Hunt for Red October, The (1990)</td>\n",
       "      <td>2.5</td>\n",
       "    </tr>\n",
       "    <tr>\n",
       "      <th>100840</th>\n",
       "      <td>700</td>\n",
       "      <td>Eyes Wide Shut (1999)</td>\n",
       "      <td>5.0</td>\n",
       "    </tr>\n",
       "    <tr>\n",
       "      <th>100841</th>\n",
       "      <td>700</td>\n",
       "      <td>Argo (2012)</td>\n",
       "      <td>5.0</td>\n",
       "    </tr>\n",
       "    <tr>\n",
       "      <th>100842</th>\n",
       "      <td>700</td>\n",
       "      <td>Brave (2012)</td>\n",
       "      <td>4.0</td>\n",
       "    </tr>\n",
       "    <tr>\n",
       "      <th>100843</th>\n",
       "      <td>700</td>\n",
       "      <td>Stepford Wives, The (1975)</td>\n",
       "      <td>3.0</td>\n",
       "    </tr>\n",
       "    <tr>\n",
       "      <th>100844</th>\n",
       "      <td>700</td>\n",
       "      <td>Spectre (2015)</td>\n",
       "      <td>2.0</td>\n",
       "    </tr>\n",
       "    <tr>\n",
       "      <th>100845</th>\n",
       "      <td>700</td>\n",
       "      <td>X2: X-Men United (2003)</td>\n",
       "      <td>1.0</td>\n",
       "    </tr>\n",
       "  </tbody>\n",
       "</table>\n",
       "</div>"
      ],
      "text/plain": [
       "        uid                                                iid  rating\n",
       "100831  610                                   Bloodmoon (1997)     2.5\n",
       "100832  610                   Sympathy for the Underdog (1971)     4.5\n",
       "100833  610                                      Hazard (2005)     3.0\n",
       "100834  610                                 Blair Witch (2016)     3.5\n",
       "100835  610                                          31 (2016)     3.5\n",
       "100836  700                              Over the Hedge (2006)     3.5\n",
       "100837  700                                     Witness (1985)     2.5\n",
       "100838  700  Raiders of the Lost Ark (Indiana Jones and the...     4.5\n",
       "100839  700                   Hunt for Red October, The (1990)     2.5\n",
       "100840  700                              Eyes Wide Shut (1999)     5.0\n",
       "100841  700                                        Argo (2012)     5.0\n",
       "100842  700                                       Brave (2012)     4.0\n",
       "100843  700                         Stepford Wives, The (1975)     3.0\n",
       "100844  700                                     Spectre (2015)     2.0\n",
       "100845  700                            X2: X-Men United (2003)     1.0"
      ]
     },
     "execution_count": 110,
     "metadata": {},
     "output_type": "execute_result"
    }
   ],
   "source": [
    "dataset.tail(15)"
   ]
  },
  {
   "cell_type": "markdown",
   "metadata": {},
   "source": [
    "Используем два алгоритма\n",
    "======="
   ]
  },
  {
   "cell_type": "code",
   "execution_count": 111,
   "metadata": {},
   "outputs": [],
   "source": [
    "reader = Reader(rating_scale=(ratings.rating.min(), ratings.rating.max()))"
   ]
  },
  {
   "cell_type": "code",
   "execution_count": 112,
   "metadata": {},
   "outputs": [],
   "source": [
    "data = Dataset.load_from_df(dataset, reader)"
   ]
  },
  {
   "cell_type": "markdown",
   "metadata": {},
   "source": [
    "SVDpp\n",
    "======"
   ]
  },
  {
   "cell_type": "code",
   "execution_count": null,
   "metadata": {},
   "outputs": [],
   "source": [
    "svdpp = SVDpp()\n",
    "trainset = data.build_full_trainset()\n",
    "svdpp.fit(trainset)"
   ]
  },
  {
   "cell_type": "markdown",
   "metadata": {},
   "source": [
    "KNNWithMeans\n",
    "======"
   ]
  },
  {
   "cell_type": "code",
   "execution_count": 115,
   "metadata": {},
   "outputs": [
    {
     "name": "stdout",
     "output_type": "stream",
     "text": [
      "Estimating biases using als...\n",
      "Computing the pearson_baseline similarity matrix...\n",
      "Done computing similarity matrix.\n"
     ]
    },
    {
     "data": {
      "text/plain": [
       "<surprise.prediction_algorithms.knns.KNNWithMeans at 0x7f98f63fc790>"
      ]
     },
     "execution_count": 115,
     "metadata": {},
     "output_type": "execute_result"
    }
   ],
   "source": [
    "knn_m = KNNWithMeans(k=30 , sim_options={'name': 'pearson_baseline', 'user_based': False})\n",
    "knn_m.fit(trainset)"
   ]
  },
  {
   "cell_type": "markdown",
   "metadata": {},
   "source": [
    "Блендинг\n",
    "====="
   ]
  },
  {
   "cell_type": "code",
   "execution_count": 118,
   "metadata": {},
   "outputs": [],
   "source": [
    "#список фильмов для рекомендации\n",
    "num_films_recommendations = 20"
   ]
  },
  {
   "cell_type": "markdown",
   "metadata": {},
   "source": [
    "Предскажем рейтинг фильма двумя алгоритмами"
   ]
  },
  {
   "cell_type": "code",
   "execution_count": 122,
   "metadata": {},
   "outputs": [],
   "source": [
    "new_user_predict_svdpp = {}\n",
    "\n",
    "for movie in movies.title.unique():\n",
    "    if movie in new_user_ratings:\n",
    "        continue\n",
    "    new_user_predict_svdpp[movie] = svdpp.predict(uid=new_user_id, iid=movie)"
   ]
  },
  {
   "cell_type": "code",
   "execution_count": 123,
   "metadata": {},
   "outputs": [],
   "source": [
    "new_user_predict_knn = {}\n",
    "\n",
    "for movie in movies.title.unique():\n",
    "    if movie in new_user_ratings:\n",
    "        continue\n",
    "    new_user_predict_knn[movie] = knn_m.predict(uid=new_user_id, iid=movie)"
   ]
  },
  {
   "cell_type": "markdown",
   "metadata": {},
   "source": [
    "Вычислим оценку фильма с весами 0.7 и 0.3"
   ]
  },
  {
   "cell_type": "code",
   "execution_count": 157,
   "metadata": {},
   "outputs": [],
   "source": [
    "blended_user_predict = {}\n",
    "\n",
    "for movie_svdpp in new_user_predict_svdpp.items():\n",
    "    blended_user_predict[movie_svdpp[0]] = movie_svdpp[1].est *0.7 + new_user_predict_knn[movie_svdpp[0]].est * 0.3\n",
    "    #print(movie_svdpp[0])\n",
    "    #print(movie_svdpp[1].est)\n",
    "    #print(new_user_predict_knn[movie_svdpp[0]].est)"
   ]
  },
  {
   "cell_type": "code",
   "execution_count": 160,
   "metadata": {},
   "outputs": [],
   "source": [
    "blended_recommendations = sorted(blended_user_predict.items(), key=lambda x: x[1], reverse=True)[:num_films_recommendations]"
   ]
  },
  {
   "cell_type": "code",
   "execution_count": 167,
   "metadata": {},
   "outputs": [
    {
     "name": "stdout",
     "output_type": "stream",
     "text": [
      "Recommendations\n",
      "____________________\n"
     ]
    },
    {
     "data": {
      "text/plain": [
       "[('Fight Club (1999)', 4.603382117367926),\n",
       " ('Shawshank Redemption, The (1994)', 4.459695114179679),\n",
       " ('Brazil (1985)', 4.441588686732177),\n",
       " ('Hustler, The (1961)', 4.438544721980346),\n",
       " ('Fear and Loathing in Las Vegas (1998)', 4.428993426297985),\n",
       " ('Trainspotting (1996)', 4.3841312768443395),\n",
       " ('Usual Suspects, The (1995)', 4.372903527956951),\n",
       " ('Touch of Evil (1958)', 4.36475635746868),\n",
       " ('North by Northwest (1959)', 4.342465080227652),\n",
       " ('Rear Window (1954)', 4.339536048384625),\n",
       " ('Seven Samurai (Shichinin no samurai) (1954)', 4.338572446936224),\n",
       " ('Hoop Dreams (1994)', 4.3312013654974875),\n",
       " ('Pulp Fiction (1994)', 4.317704218384147),\n",
       " ('There Will Be Blood (2007)', 4.2831571732722376),\n",
       " ('Cinema Paradiso (Nuovo cinema Paradiso) (1989)', 4.281778962975426),\n",
       " ('Seventh Seal, The (Sjunde inseglet, Det) (1957)', 4.273637027369897),\n",
       " (\"No Man's Land (2001)\", 4.264562287818652),\n",
       " ('Intouchables (2011)', 4.264022119099932),\n",
       " ('Underground (1995)', 4.259208533191971),\n",
       " ('Kolya (Kolja) (1996)', 4.256714618872956),\n",
       " ('Raging Bull (1980)', 4.243582894684794),\n",
       " ('Reservoir Dogs (1992)', 4.235463982567457),\n",
       " ('Lives of Others, The (Das leben der Anderen) (2006)', 4.2337091604734445),\n",
       " ('Creature Comforts (1989)', 4.231316840391022),\n",
       " ('Spirited Away (Sen to Chihiro no kamikakushi) (2001)', 4.225364106592076),\n",
       " ('Celebration, The (Festen) (1998)', 4.2219997100488165),\n",
       " ('Persepolis (2007)', 4.2142580284325035),\n",
       " ('Ghost Dog: The Way of the Samurai (1999)', 4.213275560393371),\n",
       " ('Third Man, The (1949)', 4.191631025701938),\n",
       " (\"Swept Away (Travolti da un insolito destino nell'azzurro mare d'Agosto) (1975)\",\n",
       "  4.188006559319247),\n",
       " ('Godfather, The (1972)', 4.1858003192214905),\n",
       " ('Network (1976)', 4.185073751801518),\n",
       " ('Notorious (1946)', 4.1822429702682795),\n",
       " (\"Miller's Crossing (1990)\", 4.179998114646722),\n",
       " ('Streetcar Named Desire, A (1951)', 4.176150275258915),\n",
       " ('Cool Hand Luke (1967)', 4.1752691665040995),\n",
       " ('Departed, The (2006)', 4.175240698507433),\n",
       " ('Godfather: Part II, The (1974)', 4.17279333725317),\n",
       " ('Clerks (1994)', 4.171237992068419),\n",
       " ('Princess Mononoke (Mononoke-hime) (1997)', 4.169310121812531)]"
      ]
     },
     "execution_count": 167,
     "metadata": {},
     "output_type": "execute_result"
    }
   ],
   "source": [
    "print('Recommendations')\n",
    "print('_'*20)\n",
    "blended_recommendations"
   ]
  },
  {
   "cell_type": "code",
   "execution_count": null,
   "metadata": {},
   "outputs": [],
   "source": []
  },
  {
   "cell_type": "code",
   "execution_count": null,
   "metadata": {},
   "outputs": [],
   "source": []
  },
  {
   "cell_type": "code",
   "execution_count": null,
   "metadata": {},
   "outputs": [],
   "source": []
  },
  {
   "cell_type": "code",
   "execution_count": null,
   "metadata": {},
   "outputs": [],
   "source": []
  },
  {
   "cell_type": "code",
   "execution_count": null,
   "metadata": {},
   "outputs": [],
   "source": []
  },
  {
   "cell_type": "code",
   "execution_count": null,
   "metadata": {},
   "outputs": [],
   "source": []
  },
  {
   "cell_type": "code",
   "execution_count": null,
   "metadata": {},
   "outputs": [],
   "source": []
  },
  {
   "cell_type": "code",
   "execution_count": null,
   "metadata": {},
   "outputs": [],
   "source": []
  },
  {
   "cell_type": "code",
   "execution_count": null,
   "metadata": {},
   "outputs": [],
   "source": []
  },
  {
   "cell_type": "code",
   "execution_count": null,
   "metadata": {},
   "outputs": [],
   "source": []
  },
  {
   "cell_type": "code",
   "execution_count": null,
   "metadata": {},
   "outputs": [],
   "source": []
  },
  {
   "cell_type": "code",
   "execution_count": null,
   "metadata": {},
   "outputs": [],
   "source": []
  }
 ],
 "metadata": {
  "kernelspec": {
   "display_name": "Python 3",
   "language": "python",
   "name": "python3"
  },
  "language_info": {
   "codemirror_mode": {
    "name": "ipython",
    "version": 3
   },
   "file_extension": ".py",
   "mimetype": "text/x-python",
   "name": "python",
   "nbconvert_exporter": "python",
   "pygments_lexer": "ipython3",
   "version": "3.7.7"
  }
 },
 "nbformat": 4,
 "nbformat_minor": 4
}
